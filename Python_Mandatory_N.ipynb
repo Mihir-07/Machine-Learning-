{
  "nbformat": 4,
  "nbformat_minor": 0,
  "metadata": {
    "colab": {
      "provenance": []
    },
    "kernelspec": {
      "name": "python3",
      "display_name": "Python 3"
    },
    "language_info": {
      "name": "python"
    }
  },
  "cells": [
    {
      "cell_type": "markdown",
      "source": [
        "1. Product of two matrices."
      ],
      "metadata": {
        "id": "rFHN_3Vk3rF0"
      }
    },
    {
      "cell_type": "code",
      "execution_count": null,
      "metadata": {
        "colab": {
          "base_uri": "https://localhost:8080/"
        },
        "id": "MnSMfi4KX6EN",
        "outputId": "35ac739a-a110-4eee-af98-c6618b8af30a"
      },
      "outputs": [
        {
          "output_type": "execute_result",
          "data": {
            "text/plain": [
              "[[11, 14, 17, 20, 23], [23, 30, 37, 44, 51]]"
            ]
          },
          "metadata": {},
          "execution_count": 1
        }
      ],
      "source": [
        "def matrix_mul(a,b):\n",
        "    row1=len(a)\n",
        "    col1=len(a[0])\n",
        "    row2=len(b)\n",
        "    col2=len(b[0])\n",
        "    if col1==row2:\n",
        "        result = [[0 for x in range(col2)] for y in range(row1)]\n",
        "        for i in range (row1):\n",
        "             for j in range (col2):\n",
        "                     for k in range(row2):\n",
        "                            result[i][j] += a[i][k] * b[k][j] \n",
        "        return result\n",
        "    else:\n",
        "         print(\"matrix multiplication is notr possible\")\n",
        "\n",
        "a  = [[1 ,2],\n",
        "      [3 ,4]]\n",
        "b   = [[1 ,2, 3, 4, 5],\n",
        "      [5 ,6 ,7, 8, 9]]      \n",
        "     \n",
        "matrix_mul(a,b)  "
      ]
    },
    {
      "cell_type": "markdown",
      "source": [
        "2. Proportional sampling"
      ],
      "metadata": {
        "id": "_ZQ2ETjC3wcf"
      }
    },
    {
      "cell_type": "code",
      "source": [
        "from random import uniform\n",
        "k=[2.0,6.0,1.2,5.8,20.0]\n",
        "def pick_a_number_from_list(k):\n",
        "    l=uniform(0,1)\n",
        "    s=sum(k)\n",
        "    m=[]\n",
        "    for i in range(len(k)):\n",
        "        m.append(k[i]/s)\n",
        "    c=[]\n",
        "    for i in range(0,len(k)):\n",
        "        c.append(sum(m[0:(i+1)]))\n",
        "    for j in range(0,len(k)):\n",
        "        if l<=c[j]:\n",
        "            num=k[j]\n",
        "            return num\n",
        "\n",
        "def sampling_based_on_magnitued():\n",
        "    for i in range(0,100):\n",
        "        num = pick_a_number_from_list(k)\n",
        "        print(num)\n",
        "\n",
        "sampling_based_on_magnitued()"
      ],
      "metadata": {
        "colab": {
          "base_uri": "https://localhost:8080/"
        },
        "id": "PomofLaOGUYg",
        "outputId": "132daf64-377d-480a-8181-484d45caeac1"
      },
      "execution_count": null,
      "outputs": [
        {
          "output_type": "stream",
          "name": "stdout",
          "text": [
            "20.0\n",
            "5.8\n",
            "20.0\n",
            "6.0\n",
            "6.0\n",
            "5.8\n",
            "2.0\n",
            "5.8\n",
            "20.0\n",
            "6.0\n",
            "5.8\n",
            "20.0\n",
            "20.0\n",
            "20.0\n",
            "20.0\n",
            "20.0\n",
            "20.0\n",
            "20.0\n",
            "20.0\n",
            "5.8\n",
            "20.0\n",
            "20.0\n",
            "20.0\n",
            "5.8\n",
            "20.0\n",
            "6.0\n",
            "20.0\n",
            "20.0\n",
            "2.0\n",
            "20.0\n",
            "2.0\n",
            "5.8\n",
            "20.0\n",
            "20.0\n",
            "20.0\n",
            "2.0\n",
            "20.0\n",
            "20.0\n",
            "20.0\n",
            "20.0\n",
            "20.0\n",
            "2.0\n",
            "20.0\n",
            "5.8\n",
            "6.0\n",
            "6.0\n",
            "6.0\n",
            "2.0\n",
            "20.0\n",
            "20.0\n",
            "5.8\n",
            "20.0\n",
            "20.0\n",
            "20.0\n",
            "20.0\n",
            "6.0\n",
            "20.0\n",
            "6.0\n",
            "20.0\n",
            "20.0\n",
            "20.0\n",
            "20.0\n",
            "1.2\n",
            "20.0\n",
            "20.0\n",
            "6.0\n",
            "20.0\n",
            "20.0\n",
            "20.0\n",
            "20.0\n",
            "20.0\n",
            "6.0\n",
            "20.0\n",
            "6.0\n",
            "5.8\n",
            "6.0\n",
            "5.8\n",
            "6.0\n",
            "2.0\n",
            "20.0\n",
            "1.2\n",
            "20.0\n",
            "20.0\n",
            "20.0\n",
            "20.0\n",
            "5.8\n",
            "20.0\n",
            "20.0\n",
            "20.0\n",
            "5.8\n",
            "20.0\n",
            "20.0\n",
            "20.0\n",
            "6.0\n",
            "20.0\n",
            "20.0\n",
            "5.8\n",
            "20.0\n",
            "6.0\n",
            "20.0\n"
          ]
        }
      ]
    },
    {
      "cell_type": "markdown",
      "source": [
        "3 .Replace the digits in the string with \"# \""
      ],
      "metadata": {
        "id": "WDdOx8lp306M"
      }
    },
    {
      "cell_type": "code",
      "source": [
        "import re\n",
        "def replace_digits(Word):\n",
        "    count=0\n",
        "    for i in range(len(Word)):\n",
        "        if Word[i].isdigit():\n",
        "            count=count+1\n",
        "            \n",
        "    if count==0:\n",
        "        return(\"empty string\")\n",
        "    else:\n",
        "        return(count*\"#\")\n",
        "    \n",
        "replace_digits(\"#2a$#b%c%561#\")"
      ],
      "metadata": {
        "colab": {
          "base_uri": "https://localhost:8080/",
          "height": 35
        },
        "id": "7qHd4880GYPF",
        "outputId": "19ca1988-92e6-499e-bafb-0150bd76ffe0"
      },
      "execution_count": null,
      "outputs": [
        {
          "output_type": "execute_result",
          "data": {
            "text/plain": [
              "'####'"
            ],
            "application/vnd.google.colaboratory.intrinsic+json": {
              "type": "string"
            }
          },
          "metadata": {},
          "execution_count": 25
        }
      ]
    },
    {
      "cell_type": "markdown",
      "source": [
        "4 . Students marks dashboard"
      ],
      "metadata": {
        "id": "tblUZHtq35dB"
      }
    },
    {
      "cell_type": "code",
      "source": [
        "def display_dash_board(students, marks):\n",
        "    marklist=[(students[i],marks[i]) for i in range(0,len(marks))]\n",
        "    print(\"a.\")\n",
        "    marklist.sort(key=lambda x:x[1],reverse=True)\n",
        "    count=0\n",
        "    for x,y in marklist:\n",
        "        print(x,y)\n",
        "        count=count+1\n",
        "        if count==5:\n",
        "            break\n",
        "        \n",
        "    print(\"b.\")\n",
        "  \n",
        "    count=0\n",
        "    marklist.sort(key=lambda x:x[1],reverse=False)\n",
        "    for x,y in marklist:\n",
        "        print(x,y)\n",
        "        count=count+1\n",
        "        if count==5:\n",
        "            break  \n",
        "   \n",
        "    print(\"c.\")\n",
        "   \n",
        "    for x,y in marklist:\n",
        "        if (y>25) and (y<75):\n",
        "            print(x,y)\n",
        " "
      ],
      "metadata": {
        "id": "jsspfeo1GYLp"
      },
      "execution_count": null,
      "outputs": []
    },
    {
      "cell_type": "code",
      "source": [
        "Students=['student1','student2','student3','student4','student5','student6','student7','student8','student9','student10'] \n",
        "Marks = [45, 78, 12, 14, 48, 43, 47, 98, 35, 80]"
      ],
      "metadata": {
        "id": "p8itZKzfGYKZ"
      },
      "execution_count": null,
      "outputs": []
    },
    {
      "cell_type": "code",
      "source": [
        "display_dash_board(Students,Marks)"
      ],
      "metadata": {
        "colab": {
          "base_uri": "https://localhost:8080/"
        },
        "id": "g4j1b0v8GYGv",
        "outputId": "8eb68329-8303-4d02-e961-bd33309c0e20"
      },
      "execution_count": null,
      "outputs": [
        {
          "output_type": "stream",
          "name": "stdout",
          "text": [
            "a.\n",
            "student8 98\n",
            "student10 80\n",
            "student2 78\n",
            "student5 48\n",
            "student7 47\n",
            "b.\n",
            "student3 12\n",
            "student4 14\n",
            "student9 35\n",
            "student6 43\n",
            "student1 45\n",
            "c.\n",
            "student9 35\n",
            "student6 43\n",
            "student1 45\n",
            "student7 47\n",
            "student5 48\n"
          ]
        }
      ]
    },
    {
      "cell_type": "markdown",
      "source": [
        "5. Find the closest points"
      ],
      "metadata": {
        "id": "Q2KUDiDa39GA"
      }
    },
    {
      "cell_type": "code",
      "source": [
        "import math as m\n",
        "def closest_points_to_p(s,p):\n",
        "    poi=[]\n",
        "    for i in s:\n",
        "        c=m.acos(((p[0]*i[0])+(p[1]*i[1]))/(m.sqrt((m.pow(i[0],2))+(m.pow(i[1],2)))*m.sqrt((m.pow(p[0],2)+(m.pow(p[1],2))))))\n",
        "       \n",
        "        poi.append(c)\n",
        "    cob=[(s[i],poi[i]) for i in range(0,len(poi))]\n",
        "    cob.sort(key=lambda x:x[1])\n",
        "    result=[]\n",
        "    for i in range(0,5):\n",
        "        result.append(cob[i][0])\n",
        "    return result    \n",
        "    \n",
        "s= [(1,2),(3,4),(-1,1),(6,-7),(0, 6),(-5,-8),(-1,-1),(6,0),(1,-1)]\n",
        "p= (3,-4)\n",
        "closest_points_to_p(s,p)"
      ],
      "metadata": {
        "colab": {
          "base_uri": "https://localhost:8080/"
        },
        "id": "fY8B-KAfGYFs",
        "outputId": "63f14ba0-e88f-4a36-d785-5b8060410122"
      },
      "execution_count": null,
      "outputs": [
        {
          "output_type": "execute_result",
          "data": {
            "text/plain": [
              "[(6, -7), (1, -1), (6, 0), (-5, -8), (-1, -1)]"
            ]
          },
          "metadata": {},
          "execution_count": 7
        }
      ]
    },
    {
      "cell_type": "markdown",
      "source": [
        "6.Find line which seperate given set of points"
      ],
      "metadata": {
        "id": "dg42wrD54_0W"
      }
    },
    {
      "cell_type": "code",
      "source": [
        "import re\n",
        "def i_am_the_one(red,blue,lines):\n",
        "   \n",
        "    for i in lines:\n",
        "        b=[]\n",
        "        r=[]\n",
        "        z = re.findall(r'[\\d\\.\\-\\+]+', i)\n",
        "        for a in blue:\n",
        "            c=(float(z[0])*a[0])+(float(z[1])*a[1])+float(z[2])\n",
        "            if c>0:\n",
        "                b.append(1)\n",
        "            else:\n",
        "                b.append(0)\n",
        "        lr=len(set(b))       \n",
        "        for a in red:\n",
        "            c=(float(z[0])*a[0])+(float(z[1])*a[1])+float(z[2])\n",
        "            if c>0:\n",
        "                r.append(1)\n",
        "            else:\n",
        "                r.append(0)        \n",
        "        lb=len(set(r))\n",
        "    \n",
        "        if(lr==1 and lb==1):\n",
        "            print(\"yes\")\n",
        "        else:\n",
        "            print(\"no\")\n",
        "        \n",
        "red = [(1,1),(2,1),(4,2),(2,4), (-1,4)]\n",
        "blue= [(-2,-1),(-1,-2),(-3,-2),(-3,-1),(1,-3)]\n",
        "lines=[\"1x+1y+0\",\"1x-1y+0\",\"1x+0y-3\",\"0x+1y-0.5\"]\n",
        "i_am_the_one(red,blue,lines)"
      ],
      "metadata": {
        "colab": {
          "base_uri": "https://localhost:8080/"
        },
        "id": "_ODnnlBeGsmK",
        "outputId": "cf8a7465-090a-4326-9643-5c27a222f666"
      },
      "execution_count": null,
      "outputs": [
        {
          "output_type": "stream",
          "name": "stdout",
          "text": [
            "yes\n",
            "no\n",
            "no\n",
            "yes\n"
          ]
        }
      ]
    },
    {
      "cell_type": "markdown",
      "source": [
        "\n",
        "7. Filling the missing values in the specified format"
      ],
      "metadata": {
        "id": "K5RR2yox5kk0"
      }
    },
    {
      "cell_type": "code",
      "source": [
        "def blanks(s):\n",
        "    a=s.split(\",\")\n",
        "    l=len(a)\n",
        "    if a[0]==\"_\":\n",
        "        a[0]=\"0\"      # converting 3 cases into single case\n",
        "    if a[l-1]==\"_\":\n",
        "        a[l-1]=\"0\"\n",
        "    first=a[0]\n",
        "    start=1\n",
        "    for i in range(start,l):\n",
        "        if a[i]!=\"_\":\n",
        "            k=i\n",
        "            for j in range(start-1,k+1) :\n",
        "                a[j]=(int(first)+int(a[i]))/int((k-start+2))\n",
        "            start=k+1\n",
        "            first=a[k]\n",
        "    return(a)\n",
        "\n",
        "blanks( \"_,_,_,24\") "
      ],
      "metadata": {
        "colab": {
          "base_uri": "https://localhost:8080/"
        },
        "id": "Jzlc9z2gGsjL",
        "outputId": "ae463513-a0b5-412c-fdef-712d51be19a9"
      },
      "execution_count": null,
      "outputs": [
        {
          "output_type": "execute_result",
          "data": {
            "text/plain": [
              "[6.0, 6.0, 6.0, 6.0]"
            ]
          },
          "metadata": {},
          "execution_count": 9
        }
      ]
    },
    {
      "cell_type": "code",
      "source": [
        "blanks(\"40,_,_,_,60\")"
      ],
      "metadata": {
        "colab": {
          "base_uri": "https://localhost:8080/"
        },
        "id": "CQceWCrGGsf_",
        "outputId": "561e79f6-dd63-4507-834b-274ad26468d0"
      },
      "execution_count": null,
      "outputs": [
        {
          "output_type": "execute_result",
          "data": {
            "text/plain": [
              "[20.0, 20.0, 20.0, 20.0, 20.0]"
            ]
          },
          "metadata": {},
          "execution_count": 10
        }
      ]
    },
    {
      "cell_type": "code",
      "source": [
        "blanks(\"80,_,_,_,_\")"
      ],
      "metadata": {
        "colab": {
          "base_uri": "https://localhost:8080/"
        },
        "id": "gTRqjZDGGsez",
        "outputId": "781e2788-5d2e-4af4-b6f9-372f4350556e"
      },
      "execution_count": null,
      "outputs": [
        {
          "output_type": "execute_result",
          "data": {
            "text/plain": [
              "[16.0, 16.0, 16.0, 16.0, 16.0]"
            ]
          },
          "metadata": {},
          "execution_count": 11
        }
      ]
    },
    {
      "cell_type": "code",
      "source": [
        "blanks(\"_,_,30,_,_,_,50,_,_\")"
      ],
      "metadata": {
        "colab": {
          "base_uri": "https://localhost:8080/"
        },
        "id": "tZBGqjCzGsbY",
        "outputId": "37c17024-2e38-45e9-c834-749c0dd2d90e"
      },
      "execution_count": null,
      "outputs": [
        {
          "output_type": "execute_result",
          "data": {
            "text/plain": [
              "[10.0, 10.0, 12.0, 12.0, 12.0, 12.0, 4.0, 4.0, 4.0]"
            ]
          },
          "metadata": {},
          "execution_count": 12
        }
      ]
    },
    {
      "cell_type": "markdown",
      "source": [
        "8. Conditional probability"
      ],
      "metadata": {
        "id": "3b3S37EK5oRg"
      }
    },
    {
      "cell_type": "code",
      "source": [
        "def compute_conditional_probabilites(a):\n",
        "    f=[]\n",
        "    s=[]\n",
        "    m=[]\n",
        "    for i in a:\n",
        "        f.append(i[0])\n",
        "        s.append((i[1]))\n",
        "    s=set(s)\n",
        "    s=list(s)\n",
        "    for k in f:\n",
        "        for j in range (0,len(s)):\n",
        "            m.append(k+s[j])\n",
        "        mydict1 = {k:0 for k in m}\n",
        "    for k in s:\n",
        "        mydict2={k:0 for k in s}\n",
        "       \n",
        "    for i in range(len(a)):\n",
        "        k = a[i][0] + a[i][1]    \n",
        "        mydict1[k] += 1       \n",
        "        mydict2[a[i][1]] += 1\n",
        "    \n",
        "\n",
        "    for i in f:\n",
        "        print(\" **********************\")\n",
        "        \n",
        "        for j in s:\n",
        "            print(\"probability of p(F=%s|S=%s) = \"%(i,j),(mydict1[str(i+j)]/mydict2[j]))\n",
        "            \n",
        "a = [['F1', 'S1'], ['F2', 'S2'], ['F3', 'S3'], ['F1', 'S2'], ['F2', 'S3'], ['F3', 'S2'], ['F2', 'S1'], ['F4', 'S1'], ['F4', 'S3'], ['F5', 'S1']]\n",
        "compute_conditional_probabilites(a) "
      ],
      "metadata": {
        "colab": {
          "base_uri": "https://localhost:8080/"
        },
        "id": "e0L88T04GsZx",
        "outputId": "86b01a8e-deec-493b-f21c-bf2a8e7ef04f"
      },
      "execution_count": null,
      "outputs": [
        {
          "output_type": "stream",
          "name": "stdout",
          "text": [
            " **********************\n",
            "probability of p(F=F1|S=S1) =  0.25\n",
            "probability of p(F=F1|S=S2) =  0.3333333333333333\n",
            "probability of p(F=F1|S=S3) =  0.0\n",
            " **********************\n",
            "probability of p(F=F2|S=S1) =  0.25\n",
            "probability of p(F=F2|S=S2) =  0.3333333333333333\n",
            "probability of p(F=F2|S=S3) =  0.3333333333333333\n",
            " **********************\n",
            "probability of p(F=F3|S=S1) =  0.0\n",
            "probability of p(F=F3|S=S2) =  0.3333333333333333\n",
            "probability of p(F=F3|S=S3) =  0.3333333333333333\n",
            " **********************\n",
            "probability of p(F=F1|S=S1) =  0.25\n",
            "probability of p(F=F1|S=S2) =  0.3333333333333333\n",
            "probability of p(F=F1|S=S3) =  0.0\n",
            " **********************\n",
            "probability of p(F=F2|S=S1) =  0.25\n",
            "probability of p(F=F2|S=S2) =  0.3333333333333333\n",
            "probability of p(F=F2|S=S3) =  0.3333333333333333\n",
            " **********************\n",
            "probability of p(F=F3|S=S1) =  0.0\n",
            "probability of p(F=F3|S=S2) =  0.3333333333333333\n",
            "probability of p(F=F3|S=S3) =  0.3333333333333333\n",
            " **********************\n",
            "probability of p(F=F2|S=S1) =  0.25\n",
            "probability of p(F=F2|S=S2) =  0.3333333333333333\n",
            "probability of p(F=F2|S=S3) =  0.3333333333333333\n",
            " **********************\n",
            "probability of p(F=F4|S=S1) =  0.25\n",
            "probability of p(F=F4|S=S2) =  0.0\n",
            "probability of p(F=F4|S=S3) =  0.3333333333333333\n",
            " **********************\n",
            "probability of p(F=F4|S=S1) =  0.25\n",
            "probability of p(F=F4|S=S2) =  0.0\n",
            "probability of p(F=F4|S=S3) =  0.3333333333333333\n",
            " **********************\n",
            "probability of p(F=F5|S=S1) =  0.25\n",
            "probability of p(F=F5|S=S2) =  0.0\n",
            "probability of p(F=F5|S=S3) =  0.0\n"
          ]
        }
      ]
    },
    {
      "cell_type": "markdown",
      "source": [
        "9 .Operations on sentences"
      ],
      "metadata": {
        "id": "tmM-GMkX5sAQ"
      }
    },
    {
      "cell_type": "code",
      "source": [
        "def string_features(s1, s2):\n",
        "    set1=set(s1.split())\n",
        "    set2=set(s2.split())\n",
        "    a=len(set1&set2)\n",
        "    b=list(set1-set2)\n",
        "    c=list(set2-set1)\n",
        "    return a,b,c\n",
        "\n",
        "s1= \"the first column F will contain only 5 uniques values\"\n",
        "s2= \"the second column S will contain only 3 uniques values\"\n",
        "a,b,c=string_features(s1, s2)\n",
        "print(a)\n",
        "print(b)\n",
        "print(c)"
      ],
      "metadata": {
        "colab": {
          "base_uri": "https://localhost:8080/"
        },
        "id": "J1UfmVYf3aqo",
        "outputId": "ecaa57a1-4abc-4247-f74f-f1a072fc2eac"
      },
      "execution_count": null,
      "outputs": [
        {
          "output_type": "stream",
          "name": "stdout",
          "text": [
            "7\n",
            "['F', 'first', '5']\n",
            "['second', '3', 'S']\n"
          ]
        }
      ]
    },
    {
      "cell_type": "markdown",
      "source": [
        "10 . Error function"
      ],
      "metadata": {
        "id": "cG1henl65uvj"
      }
    },
    {
      "cell_type": "code",
      "source": [
        "import math as m\n",
        "def compute_log_loss(input):\n",
        "    sum=0\n",
        "    for s in input:\n",
        "        sum=sum+(s[0]*m.log10(s[1])+((1-s[0])*m.log10(1-s[1])))\n",
        "    return (sum/-len(input))\n",
        "\n",
        "input= [[1, 0.4], [0, 0.5], [0, 0.9], [0, 0.3], [0, 0.6], [1, 0.1], [1, 0.9], [1, 0.8]]\n",
        "compute_log_loss(input)"
      ],
      "metadata": {
        "colab": {
          "base_uri": "https://localhost:8080/"
        },
        "id": "SboIVC0x3akr",
        "outputId": "3426fcbc-d925-4a40-af38-55522e7e58a6"
      },
      "execution_count": null,
      "outputs": [
        {
          "output_type": "execute_result",
          "data": {
            "text/plain": [
              "0.42430993457031635"
            ]
          },
          "metadata": {},
          "execution_count": 32
        }
      ]
    },
    {
      "cell_type": "markdown",
      "source": [
        "Ref :- Applied AI Videos\n",
        "\n",
        "  https://stackoverflow.com/questions/57160252/find-conditional-probabilities-using-python\n",
        "\n",
        "  Other python tutorial sites\n"
      ],
      "metadata": {
        "id": "e6shZijHbUPS"
      }
    }
  ]
}